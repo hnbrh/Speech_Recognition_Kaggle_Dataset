{
 "cells": [
  {
   "cell_type": "code",
   "execution_count": 4,
   "metadata": {},
   "outputs": [
    {
     "data": {
      "text/plain": [
       "'\\nLABELS:\\n0 - NO\\n1 - YES\\n2 - ON\\n3 - OFF\\n4 - DOWN\\n5 - UP\\n6 - LEFT\\n7 - RIGHT\\n8 - GO\\n9 - WOW\\n'"
      ]
     },
     "execution_count": 4,
     "metadata": {},
     "output_type": "execute_result"
    }
   ],
   "source": [
    "\"\"\"SPEECH RECOGNITION KAGGLE COMPETITION\"\"\"\n",
    "\"\"\"\n",
    "LABELS:\n",
    "0 - NO\n",
    "1 - YES\n",
    "2 - ON\n",
    "3 - OFF\n",
    "4 - DOWN\n",
    "5 - UP\n",
    "6 - LEFT\n",
    "7 - RIGHT\n",
    "8 - GO\n",
    "9 - WOW\n",
    "\"\"\""
   ]
  },
  {
   "cell_type": "code",
   "execution_count": 5,
   "metadata": {},
   "outputs": [],
   "source": [
    "import numpy as np\n",
    "from scipy.io import wavfile\n",
    "import os\n",
    "from tqdm import tqdm\n",
    "import functions as f"
   ]
  },
  {
   "cell_type": "code",
   "execution_count": 10,
   "metadata": {},
   "outputs": [],
   "source": [
    "label_names = ['no', 'yes', 'on', 'off', 'down', 'up', 'left', 'right', 'go', 'wow']\n"
   ]
  },
  {
   "cell_type": "code",
   "execution_count": 11,
   "metadata": {},
   "outputs": [],
   "source": [
    "def import_data(n_train, n_test, label_names):\n",
    "    \"\"\"imports data from label folders\"\"\"\n",
    "    \"\"\"\n",
    "    n_train: number of training examples of each label\n",
    "    real n_train = n_train * n_labels\n",
    "    n_test: number of test examples\n",
    "    label_names: label names\n",
    "    \"\"\"\n",
    "    \"\"\"returns: X_train, y_train, X_test, y_test, fs \n",
    "    (y vals: onehot notation required in forward processing)\"\"\"\n",
    "    X_train = np.empty((0, 16000)) #arbitrary assumming that fs = 16kHz (vstack does't work)\n",
    "    y_train = np.array([])\n",
    "    X_test = np.empty((0, 16000))\n",
    "    y_test = np.array([])\n",
    "    for label_i in tqdm(range(len(label_names))):\n",
    "        fnames = os.listdir('data/' + label_names[label_i] + '/')\n",
    "        if n_train + n_test > len(fnames):\n",
    "            return -1\n",
    "        else:\n",
    "            for file_i in range(0, n_train + n_test):\n",
    "                data = np.array([])\n",
    "                fs, data = wavfile.read(\n",
    "                    'data/' + label_names[label_i] + '/' + fnames[file_i])\n",
    "                if len(data) > fs:\n",
    "                    data = data[0:fs]\n",
    "                elif len(data) < fs:\n",
    "                    for data_i in range(len(data), fs):\n",
    "                        data = np.append(data, 0)\n",
    "                data = np.transpose(data)\n",
    "                if file_i in range(0,n_train):\n",
    "                    X_train = np.vstack((X_train, data))\n",
    "                    y_train = np.hstack((y_train, label_names[label_i]))\n",
    "                elif file_i in range(n_train,n_train+n_test):\n",
    "                    X_test = np.vstack((X_test,data))\n",
    "                    y_test = np.hstack((y_test, label_names[label_i]))\n",
    "                    \n",
    "    return X_train, y_train, X_test, y_test, fs"
   ]
  },
  {
   "cell_type": "code",
   "execution_count": 12,
   "metadata": {},
   "outputs": [],
   "source": [
    "import numpy as np\n",
    "import functions as f"
   ]
  },
  {
   "cell_type": "code",
   "execution_count": 13,
   "metadata": {},
   "outputs": [
    {
     "name": "stderr",
     "output_type": "stream",
     "text": [
      "100%|██████████████████████████████████████████████████████████████████████████████| 10/10 [3:06:58<00:00, 1645.03s/it]\n"
     ]
    }
   ],
   "source": [
    "X_train, y_train, X_test, y_test, fs = import_data(1500, 200, label_names=label_names)"
   ]
  },
  {
   "cell_type": "code",
   "execution_count": 14,
   "metadata": {},
   "outputs": [
    {
     "name": "stdout",
     "output_type": "stream",
     "text": [
      "X_train:  15000 16000\n",
      "y_train 15000\n",
      "X_test 2000 16000\n",
      "y_test 2000\n"
     ]
    }
   ],
   "source": [
    "print('X_train: ', X_train.shape[0], X_train.shape[1])\n",
    "print('y_train', y_train.shape[0])\n",
    "print('X_test', X_test.shape[0], X_test.shape[1])\n",
    "print('y_test', y_test.shape[0])\n"
   ]
  },
  {
   "cell_type": "code",
   "execution_count": 15,
   "metadata": {},
   "outputs": [],
   "source": [
    "\"\"\"execute this code!!!\"\"\"\n",
    "np.savez_compressed('voice_samples.npz',\n",
    "                    X_train = X_train,\n",
    "                    y_train = y_train,\n",
    "                    X_test = X_test,\n",
    "                    y_test = y_test)"
   ]
  }
 ],
 "metadata": {
  "kernelspec": {
   "display_name": "Python 3",
   "language": "python",
   "name": "python3"
  },
  "language_info": {
   "codemirror_mode": {
    "name": "ipython",
    "version": 3
   },
   "file_extension": ".py",
   "mimetype": "text/x-python",
   "name": "python",
   "nbconvert_exporter": "python",
   "pygments_lexer": "ipython3",
   "version": "3.6.8rc1"
  }
 },
 "nbformat": 4,
 "nbformat_minor": 2
}
