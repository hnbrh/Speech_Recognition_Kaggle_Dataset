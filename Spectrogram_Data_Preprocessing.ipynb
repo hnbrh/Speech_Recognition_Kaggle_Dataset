{
 "cells": [
  {
   "cell_type": "code",
   "execution_count": 62,
   "metadata": {},
   "outputs": [],
   "source": [
    "import numpy as np\n",
    "from scipy.signal import spectrogram\n",
    "import matplotlib.pyplot as plt\n",
    "import functions\n",
    "from tqdm import tqdm"
   ]
  },
  {
   "cell_type": "code",
   "execution_count": 51,
   "metadata": {},
   "outputs": [],
   "source": [
    "label_names = ['no', 'yes', 'on', 'off', 'down', 'up', 'left', 'right', 'go', 'wow']\n",
    "\n",
    "data = np.load('voice_samples.npz')\n",
    "\n",
    "X_train_time, y_train_words, X_test_time, y_test_words = [data[f] for f in data.files]\n",
    "\n",
    "y_train_num = functions.y_to_num(y_train_words, label_names)\n",
    "y_test_num = functions.y_to_num(y_test_words, label_names)"
   ]
  },
  {
   "cell_type": "code",
   "execution_count": 116,
   "metadata": {},
   "outputs": [],
   "source": [
    "from scipy.io import wavfile\n",
    "wavfile.write('output_signal.wav', 16000, X_test_time[0, :])"
   ]
  },
  {
   "cell_type": "code",
   "execution_count": 52,
   "metadata": {},
   "outputs": [
    {
     "name": "stdout",
     "output_type": "stream",
     "text": [
      "(15000, 16000)\n",
      "(2000, 16000)\n"
     ]
    }
   ],
   "source": [
    "print(X_train_time.shape)\n",
    "print(X_test_time.shape)"
   ]
  },
  {
   "cell_type": "code",
   "execution_count": 53,
   "metadata": {},
   "outputs": [
    {
     "name": "stdout",
     "output_type": "stream",
     "text": [
      "(16000,)\n"
     ]
    }
   ],
   "source": [
    "ex = X_train_time[5002, :]\n",
    "print(ex.shape)"
   ]
  },
  {
   "cell_type": "code",
   "execution_count": 54,
   "metadata": {},
   "outputs": [
    {
     "name": "stdout",
     "output_type": "stream",
     "text": [
      "(129, 71)\n"
     ]
    }
   ],
   "source": [
    "f, t, Sxx = spectrogram(ex, window='hamming')\n",
    "print(Sxx.shape)"
   ]
  },
  {
   "cell_type": "code",
   "execution_count": 55,
   "metadata": {},
   "outputs": [
    {
     "data": {
      "image/png": "[encoded data removed]",
      "text/plain": [
       "<Figure size 432x288 with 1 Axes>"
      ]
     },
     "metadata": {
      "needs_background": "light"
     },
     "output_type": "display_data"
    }
   ],
   "source": [
    "plt.imshow(Sxx)\n",
    "plt.show()"
   ]
  },
  {
   "cell_type": "code",
   "execution_count": 56,
   "metadata": {},
   "outputs": [],
   "source": [
    "X_train_spec = np.array([])\n",
    "X_test_spec= np.array([])"
   ]
  },
  {
   "cell_type": "code",
   "execution_count": 63,
   "metadata": {},
   "outputs": [
    {
     "name": "stderr",
     "output_type": "stream",
     "text": [
      "100%|██████████████████████████████████████████████████████████████████████████| 15000/15000 [1:43:51<00:00,  1.21it/s]\n",
      "100%|███████████████████████████████████████████████████████| 2000/2000 [01:52<00:00,  9.03it/s]\n"
     ]
    }
   ],
   "source": [
    "for it in tqdm(range(X_train_time.shape[0])):\n",
    "    tmp = X_train_time[it, :]\n",
    "    f, t, Sxx = spectrogram(tmp, window='hamming')\n",
    "    X_train_spec = np.append(X_train_spec, Sxx)\n",
    "    \n",
    "for it in tqdm(range(X_test_time.shape[0])):\n",
    "    tmp = X_test_time[it, :]\n",
    "    f, t, Sxx = spectrogram(tmp, window='hamming')\n",
    "    X_test_spec = np.append(X_test_spec, Sxx)"
   ]
  },
  {
   "cell_type": "code",
   "execution_count": 66,
   "metadata": {},
   "outputs": [
    {
     "name": "stdout",
     "output_type": "stream",
     "text": [
      "(18318000,)\n"
     ]
    }
   ],
   "source": [
    "print(X_test_spec.shape)"
   ]
  },
  {
   "cell_type": "code",
   "execution_count": 68,
   "metadata": {},
   "outputs": [],
   "source": [
    "X_train_spec = np.reshape(X_train_spec, (X_train_time.shape[0], 129, 71))\n",
    "X_test_spec = np.reshape(X_test_spec, (X_test_time.shape[0], 129, 71))"
   ]
  },
  {
   "cell_type": "code",
   "execution_count": 70,
   "metadata": {},
   "outputs": [
    {
     "name": "stdout",
     "output_type": "stream",
     "text": [
      "(15000, 129, 71)\n",
      "(2000, 129, 71)\n"
     ]
    }
   ],
   "source": [
    "print(X_train_spec.shape)\n",
    "print(X_test_spec.shape)"
   ]
  },
  {
   "cell_type": "code",
   "execution_count": 103,
   "metadata": {},
   "outputs": [
    {
     "name": "stdout",
     "output_type": "stream",
     "text": [
      "yes\n"
     ]
    },
    {
     "data": {
      "image/png": "[encoded data removed]",
      "text/plain": [
       "<Figure size 432x288 with 1 Axes>"
      ]
     },
     "metadata": {
      "needs_background": "light"
     },
     "output_type": "display_data"
    },
    {
     "name": "stdout",
     "output_type": "stream",
     "text": [
      "2883752.8272911464\n",
      "3.8424559749145957e-05\n",
      "float64\n"
     ]
    }
   ],
   "source": [
    "idx = 210\n",
    "print(y_test_words[idx])\n",
    "plt.imshow(X_test_spec[idx,:,:])\n",
    "plt.show()\n",
    "print(np.mean(X_test_spec[idx,:,:]))\n",
    "print(np.min(X_test_spec[idx,:,:]))\n",
    "print(X_test_spec.dtype)"
   ]
  },
  {
   "cell_type": "code",
   "execution_count": 104,
   "metadata": {},
   "outputs": [
    {
     "name": "stdout",
     "output_type": "stream",
     "text": [
      "328009972.8504623\n"
     ]
    }
   ],
   "source": [
    "sigma = np.std(X_train_spec)\n",
    "print(sigma)"
   ]
  },
  {
   "cell_type": "code",
   "execution_count": 105,
   "metadata": {},
   "outputs": [],
   "source": [
    "X_train_spec , X_test_spec = X_train_spec/sigma , X_test_spec/sigma"
   ]
  },
  {
   "cell_type": "code",
   "execution_count": 107,
   "metadata": {},
   "outputs": [
    {
     "name": "stdout",
     "output_type": "stream",
     "text": [
      "yes\n"
     ]
    },
    {
     "data": {
      "image/png": "[encoded data removed]",
      "text/plain": [
       "<Figure size 432x288 with 1 Axes>"
      ]
     },
     "metadata": {
      "needs_background": "light"
     },
     "output_type": "display_data"
    },
    {
     "name": "stdout",
     "output_type": "stream",
     "text": [
      "0.008791662040732617\n",
      "2.8494536514507542\n",
      "float64\n"
     ]
    }
   ],
   "source": [
    "idx = 210\n",
    "print(y_test_words[idx])\n",
    "plt.imshow(X_test_spec[idx,:,:])\n",
    "plt.show()\n",
    "print(np.mean(X_test_spec[idx,:,:]))\n",
    "print(np.max(X_test_spec[idx,:,:]))\n",
    "print(X_test_spec.dtype)"
   ]
  },
  {
   "cell_type": "code",
   "execution_count": 117,
   "metadata": {},
   "outputs": [],
   "source": [
    "X_train_spec , X_test_spec = X_train_spec.astype(np.float16) , X_test_spec.astype(np.float16)\n",
    "y_train_num , y_test_num = y_train_num.astype(np.uint8), y_test_num.astype(np.uint8)"
   ]
  },
  {
   "cell_type": "code",
   "execution_count": 118,
   "metadata": {},
   "outputs": [
    {
     "name": "stdout",
     "output_type": "stream",
     "text": [
      "yes\n",
      "0.00879\n",
      "2.85\n",
      "float16\n"
     ]
    }
   ],
   "source": [
    "idx = 210\n",
    "print(y_test_words[idx])\n",
    "print(np.mean(X_test_spec[idx,:,:]))\n",
    "print(np.max(X_test_spec[idx,:,:]))\n",
    "print(X_test_spec.dtype)"
   ]
  },
  {
   "cell_type": "code",
   "execution_count": 119,
   "metadata": {},
   "outputs": [],
   "source": [
    "\"\"\"execute this code!!!\"\"\"\n",
    "np.savez_compressed('voice_spectrograms.npz',\n",
    "                    X_train = X_train_spec,\n",
    "                    y_train = y_train_num,\n",
    "                    X_test = X_test_spec,\n",
    "                    y_test = y_test_num)"
   ]
  }
 ],
 "metadata": {
  "kernelspec": {
   "display_name": "Python 3",
   "language": "python",
   "name": "python3"
  },
  "language_info": {
   "codemirror_mode": {
    "name": "ipython",
    "version": 3
   },
   "file_extension": ".py",
   "mimetype": "text/x-python",
   "name": "python",
   "nbconvert_exporter": "python",
   "pygments_lexer": "ipython3",
   "version": "3.6.8rc1"
  }
 },
 "nbformat": 4,
 "nbformat_minor": 2
}
