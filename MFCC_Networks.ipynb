{
 "cells": [
  {
   "cell_type": "code",
   "execution_count": 67,
   "metadata": {},
   "outputs": [],
   "source": [
    "import numpy as np\n",
    "import matplotlib.pyplot as plt\n",
    "from tensorflow import one_hot"
   ]
  },
  {
   "cell_type": "code",
   "execution_count": 68,
   "metadata": {},
   "outputs": [],
   "source": [
    "label_names = ['no', 'yes', 'on', 'off', 'down', 'up', 'left', 'right', 'go', 'wow']\n",
    "\n",
    "data = np.load('voice_mfcc.npz')\n",
    "\n",
    "X_train_std, y_train_num, X_test_std, y_test_num = [data[f] for f in data.files]"
   ]
  },
  {
   "cell_type": "code",
   "execution_count": 69,
   "metadata": {},
   "outputs": [
    {
     "name": "stdout",
     "output_type": "stream",
     "text": [
      "(15000, 13, 99)\n",
      "(15000,)\n",
      "left\n"
     ]
    },
    {
     "data": {
      "image/png": "[encoded data removed]",
      "text/plain": [
       "<Figure size 432x288 with 1 Axes>"
      ]
     },
     "metadata": {
      "needs_background": "light"
     },
     "output_type": "display_data"
    }
   ],
   "source": [
    "print(X_train_std.shape)\n",
    "print(y_train_num.shape)\n",
    "idx = 10005\n",
    "plt.pcolormesh(X_train_std[idx])\n",
    "print(label_names[y_train_num[idx]])"
   ]
  },
  {
   "cell_type": "code",
   "execution_count": 70,
   "metadata": {},
   "outputs": [
    {
     "name": "stdout",
     "output_type": "stream",
     "text": [
      "1287\n"
     ]
    }
   ],
   "source": [
    "input_shape = X_train_std.shape[1] * X_train_std.shape[2]\n",
    "print(input_shape)"
   ]
  },
  {
   "cell_type": "code",
   "execution_count": 71,
   "metadata": {},
   "outputs": [
    {
     "name": "stdout",
     "output_type": "stream",
     "text": [
      "(15000, 1287) (2000, 1287)\n"
     ]
    }
   ],
   "source": [
    "X_train_flat = np.reshape(X_train_std, (-1, input_shape))\n",
    "X_test_flat = np.reshape(X_test_std, (-1, input_shape))\n",
    "print(X_train_flat.shape, X_test_flat.shape)"
   ]
  },
  {
   "cell_type": "code",
   "execution_count": 72,
   "metadata": {},
   "outputs": [],
   "source": [
    "X_train_conv = np.reshape(X_train_std, (-1, 13, 99, 1))\n",
    "X_test_conv = np.reshape(X_test_std, (-1, 13, 99, 1))"
   ]
  },
  {
   "cell_type": "code",
   "execution_count": 73,
   "metadata": {},
   "outputs": [],
   "source": [
    "y_train_one_hot = one_hot(indices=y_train_num, depth=10)\n",
    "y_test_one_hot = one_hot(indices=y_test_num, depth=10)"
   ]
  },
  {
   "cell_type": "code",
   "execution_count": 77,
   "metadata": {},
   "outputs": [],
   "source": [
    "from keras.models import Sequential, Input, Model\n",
    "from keras.layers import Dense, Dropout, Add, Activation, Conv2D, Flatten\n",
    "from keras.constraints import unit_norm"
   ]
  },
  {
   "cell_type": "code",
   "execution_count": 75,
   "metadata": {},
   "outputs": [
    {
     "name": "stderr",
     "output_type": "stream",
     "text": [
      "c:\\users\\wiktor\\appdata\\local\\programs\\python\\python36\\lib\\site-packages\\ipykernel_launcher.py:14: UserWarning: Update your `Model` call to the Keras 2 API: `Model(inputs=Tensor(\"in..., outputs=Tensor(\"de...)`\n",
      "  \n"
     ]
    }
   ],
   "source": [
    "\n",
    "# model_intput = Input(shape=(input_shape,))\n",
    "# model = Dense(units=1024, activation='relu', \n",
    "#                  input_dim=input_shape, kernel_constraint=unit_norm())(model_intput)\n",
    "# model = Dropout(0.5)(model)\n",
    "# model = Dense(units=256)(model)\n",
    "# shortcut = model\n",
    "# model = Activation('relu')(model)\n",
    "# model = Dense(units=512, activation='relu')(model)\n",
    "# model = Dense(units=256)(model)\n",
    "# added = Add()([shortcut, model])\n",
    "# model = Activation('relu')(added)\n",
    "# model = Dense(units=128, activation='relu')(model)\n",
    "# model = Dense(units=10, activation='softmax')(model)\n",
    "# model = Model(inputs=model_intput, output = model)"
   ]
  },
  {
   "cell_type": "code",
   "execution_count": 95,
   "metadata": {},
   "outputs": [
    {
     "name": "stderr",
     "output_type": "stream",
     "text": [
      "W1015 17:47:51.987246 10744 nn_ops.py:4224] Large dropout rate: 0.6 (>0.5). In TensorFlow 2.x, dropout() uses dropout rate instead of keep_prob. Please ensure that this is intended.\n",
      "c:\\users\\wiktor\\appdata\\local\\programs\\python\\python36\\lib\\site-packages\\ipykernel_launcher.py:10: UserWarning: Update your `Model` call to the Keras 2 API: `Model(inputs=Tensor(\"in..., outputs=Tensor(\"de...)`\n",
      "  # Remove the CWD from sys.path while we load stuff.\n"
     ]
    }
   ],
   "source": [
    "model_input = Input(shape=(13,99, 1))\n",
    "model = Conv2D(filters=8, kernel_size=(3,3), strides=(2,2),\n",
    "              padding='same', activation='relu')(model_input)\n",
    "model = Conv2D(filters=16, kernel_size=(3,3), strides=(2,2),\n",
    "              padding='same', activation='relu')(model)\n",
    "model = Flatten()(model)\n",
    "model = Dense(units=1024, activation='relu')(model)\n",
    "model = Dropout(0.6)(model)\n",
    "model = Dense(units=10, activation='softmax')(model)\n",
    "model = Model(inputs=model_input, output=model)"
   ]
  },
  {
   "cell_type": "code",
   "execution_count": 96,
   "metadata": {},
   "outputs": [
    {
     "name": "stdout",
     "output_type": "stream",
     "text": [
      "Model: \"model_8\"\n",
      "_________________________________________________________________\n",
      "Layer (type)                 Output Shape              Param #   \n",
      "=================================================================\n",
      "input_24 (InputLayer)        (None, 13, 99, 1)         0         \n",
      "_________________________________________________________________\n",
      "conv2d_16 (Conv2D)           (None, 7, 50, 8)          80        \n",
      "_________________________________________________________________\n",
      "conv2d_17 (Conv2D)           (None, 4, 25, 16)         1168      \n",
      "_________________________________________________________________\n",
      "flatten_7 (Flatten)          (None, 1600)              0         \n",
      "_________________________________________________________________\n",
      "dense_133 (Dense)            (None, 1024)              1639424   \n",
      "_________________________________________________________________\n",
      "dropout_36 (Dropout)         (None, 1024)              0         \n",
      "_________________________________________________________________\n",
      "dense_134 (Dense)            (None, 10)                10250     \n",
      "=================================================================\n",
      "Total params: 1,650,922\n",
      "Trainable params: 1,650,922\n",
      "Non-trainable params: 0\n",
      "_________________________________________________________________\n"
     ]
    }
   ],
   "source": [
    "model.summary()"
   ]
  },
  {
   "cell_type": "code",
   "execution_count": 97,
   "metadata": {},
   "outputs": [],
   "source": [
    "# model = Sequential()\n",
    "# model.add(Dense(units=512, \n",
    "#                 input_dim=input_shape, kernel_constraint=unit_norm()))\n",
    "# model.add(Dropout(0.5))\n",
    "# shortcut = model.output\n",
    "# model.add(Activation('relu'))\n",
    "# model.add(Dense(units=512, activation='relu'))\n",
    "# model.add(Dense(units=512))\n",
    "# added = model.output + shortcut\n",
    "# print(added)\n",
    "# added_layer = Add()([model, shortcut])\n",
    "# model.add(added_layer)\n",
    "# model.add(Activation('relu'))\n",
    "# model.add(Dense(units=128, activation='relu'))\n",
    "# model.add(Dropout(0.5))\n",
    "\n",
    "# model.add(Dense(units=10, activation='softmax'))"
   ]
  },
  {
   "cell_type": "code",
   "execution_count": 98,
   "metadata": {},
   "outputs": [],
   "source": [
    "model.compile(loss='categorical_crossentropy',\n",
    "             optimizer='adam',\n",
    "             metrics=['accuracy'])"
   ]
  },
  {
   "cell_type": "code",
   "execution_count": 99,
   "metadata": {},
   "outputs": [
    {
     "name": "stdout",
     "output_type": "stream",
     "text": [
      "Model: \"model_8\"\n",
      "_________________________________________________________________\n",
      "Layer (type)                 Output Shape              Param #   \n",
      "=================================================================\n",
      "input_24 (InputLayer)        (None, 13, 99, 1)         0         \n",
      "_________________________________________________________________\n",
      "conv2d_16 (Conv2D)           (None, 7, 50, 8)          80        \n",
      "_________________________________________________________________\n",
      "conv2d_17 (Conv2D)           (None, 4, 25, 16)         1168      \n",
      "_________________________________________________________________\n",
      "flatten_7 (Flatten)          (None, 1600)              0         \n",
      "_________________________________________________________________\n",
      "dense_133 (Dense)            (None, 1024)              1639424   \n",
      "_________________________________________________________________\n",
      "dropout_36 (Dropout)         (None, 1024)              0         \n",
      "_________________________________________________________________\n",
      "dense_134 (Dense)            (None, 10)                10250     \n",
      "=================================================================\n",
      "Total params: 1,650,922\n",
      "Trainable params: 1,650,922\n",
      "Non-trainable params: 0\n",
      "_________________________________________________________________\n"
     ]
    }
   ],
   "source": [
    "model.summary()"
   ]
  },
  {
   "cell_type": "code",
   "execution_count": 100,
   "metadata": {},
   "outputs": [
    {
     "name": "stdout",
     "output_type": "stream",
     "text": [
      "Train on 15000 samples, validate on 2000 samples\n",
      "Epoch 1/10\n",
      "20/20 [==============================] - 153s 8s/step - loss: 1.6711 - acc: 0.4339 - val_loss: 1.2982 - val_acc: 0.5840\n",
      "Epoch 2/10\n",
      "20/20 [==============================] - 162s 8s/step - loss: 1.0554 - acc: 0.6572 - val_loss: 0.9602 - val_acc: 0.6930\n",
      "Epoch 3/10\n",
      "20/20 [==============================] - 167s 8s/step - loss: 0.6708 - acc: 0.7852 - val_loss: 0.7589 - val_acc: 0.7510\n",
      "Epoch 4/10\n",
      "20/20 [==============================] - 164s 8s/step - loss: 0.4227 - acc: 0.8676 - val_loss: 0.6840 - val_acc: 0.7915\n",
      "Epoch 5/10\n",
      "20/20 [==============================] - 163s 8s/step - loss: 0.2673 - acc: 0.9195 - val_loss: 0.6703 - val_acc: 0.8000\n",
      "Epoch 6/10\n",
      "20/20 [==============================] - 164s 8s/step - loss: 0.1684 - acc: 0.9520 - val_loss: 0.6849 - val_acc: 0.8065\n",
      "Epoch 7/10\n",
      "20/20 [==============================] - 164s 8s/step - loss: 0.1085 - acc: 0.9719 - val_loss: 0.7118 - val_acc: 0.8105\n",
      "Epoch 8/10\n",
      "20/20 [==============================] - 167s 8s/step - loss: 0.0744 - acc: 0.9817 - val_loss: 0.7385 - val_acc: 0.8065\n",
      "Epoch 9/10\n",
      "20/20 [==============================] - 171s 9s/step - loss: 0.0543 - acc: 0.9873 - val_loss: 0.7709 - val_acc: 0.8080\n",
      "Epoch 10/10\n",
      "20/20 [==============================] - 164s 8s/step - loss: 0.0399 - acc: 0.9915 - val_loss: 0.7897 - val_acc: 0.8040\n"
     ]
    },
    {
     "data": {
      "text/plain": [
       "<keras.callbacks.History at 0x20b633d4710>"
      ]
     },
     "execution_count": 100,
     "metadata": {},
     "output_type": "execute_result"
    }
   ],
   "source": [
    "model.fit(X_train_conv, y_train_one_hot, epochs=10, steps_per_epoch=20, \n",
    "          validation_data=(X_test_conv, y_test_one_hot), validation_steps=20)"
   ]
  }
 ],
 "metadata": {
  "kernelspec": {
   "display_name": "Python 3",
   "language": "python",
   "name": "python3"
  },
  "language_info": {
   "codemirror_mode": {
    "name": "ipython",
    "version": 3
   },
   "file_extension": ".py",
   "mimetype": "text/x-python",
   "name": "python",
   "nbconvert_exporter": "python",
   "pygments_lexer": "ipython3",
   "version": "3.6.8rc1"
  }
 },
 "nbformat": 4,
 "nbformat_minor": 2
}
