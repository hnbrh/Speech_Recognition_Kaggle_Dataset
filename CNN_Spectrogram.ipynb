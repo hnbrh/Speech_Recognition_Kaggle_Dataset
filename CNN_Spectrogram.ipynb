{
 "cells": [
  {
   "cell_type": "code",
   "execution_count": 1,
   "metadata": {},
   "outputs": [],
   "source": [
    "import numpy as np \n",
    "import matplotlib. pyplot as plt\n",
    "import functions"
   ]
  },
  {
   "cell_type": "code",
   "execution_count": 2,
   "metadata": {},
   "outputs": [],
   "source": [
    "label_names = ['no', 'yes', 'on', 'off', 'down', 'up', 'left', 'right', 'go', 'wow']\n",
    "\n",
    "data = np.load('voice_spectrograms.npz')\n",
    "\n",
    "X_train_std, y_train_num, X_test_std, y_test_num = [data[f] for f in data.files]"
   ]
  },
  {
   "cell_type": "code",
   "execution_count": 3,
   "metadata": {},
   "outputs": [
    {
     "name": "stdout",
     "output_type": "stream",
     "text": [
      "(2000, 129, 71)\n"
     ]
    }
   ],
   "source": [
    "print(X_test_std.shape)"
   ]
  },
  {
   "cell_type": "code",
   "execution_count": 4,
   "metadata": {},
   "outputs": [
    {
     "name": "stdout",
     "output_type": "stream",
     "text": [
      "(15000, 129, 71)\n",
      "(2000, 129, 71)\n"
     ]
    }
   ],
   "source": [
    "print(X_train_std.shape)\n",
    "X_train_std = np.reshape(X_train_std, (-1, 129, 71))\n",
    "X_test_std = np.reshape(X_test_std, (-1, 129, 71))\n",
    "print(X_test_std.shape)"
   ]
  },
  {
   "cell_type": "code",
   "execution_count": 5,
   "metadata": {},
   "outputs": [
    {
     "name": "stdout",
     "output_type": "stream",
     "text": [
      "(2000, 70, 70)\n"
     ]
    },
    {
     "data": {
      "image/png": "[encoded data removed]",
      "text/plain": [
       "<Figure size 432x288 with 1 Axes>"
      ]
     },
     "metadata": {
      "needs_background": "light"
     },
     "output_type": "display_data"
    }
   ],
   "source": [
    "X_train_std = X_train_std[:, :70, :70]\n",
    "X_test_std = X_test_std[:, :70, :70]\n",
    "print(X_test_std.shape)\n",
    "plt.imshow(X_test_std[1500,:,:].astype(np.float32))\n",
    "plt.show()"
   ]
  },
  {
   "cell_type": "code",
   "execution_count": 6,
   "metadata": {},
   "outputs": [
    {
     "name": "stdout",
     "output_type": "stream",
     "text": [
      "(2000, 70, 70)\n",
      "0\n",
      "no\n"
     ]
    },
    {
     "data": {
      "image/png": "[encoded data removed]",
      "text/plain": [
       "<Figure size 432x288 with 1 Axes>"
      ]
     },
     "metadata": {
      "needs_background": "light"
     },
     "output_type": "display_data"
    }
   ],
   "source": [
    "print(X_test_std.shape)\n",
    "print(y_test_num[1])\n",
    "print(label_names[y_test_num[1]])\n",
    "plt.imshow(X_test_std[1,:,:].astype(np.float32))\n",
    "plt.show()"
   ]
  },
  {
   "cell_type": "code",
   "execution_count": 7,
   "metadata": {},
   "outputs": [
    {
     "name": "stdout",
     "output_type": "stream",
     "text": [
      "(15000, 4900)\n"
     ]
    }
   ],
   "source": [
    "X_train_std = np.reshape(X_train_std, (15000,4900))\n",
    "X_test_std = np.reshape(X_test_std, (2000,4900))\n",
    "print(X_train_std.shape)"
   ]
  },
  {
   "cell_type": "code",
   "execution_count": 8,
   "metadata": {},
   "outputs": [],
   "source": [
    "def standardize(input_data):\n",
    "    sigma = np.std(input_data, axis=1)\n",
    "    size = input_data.shape[0]\n",
    "    sigma = sigma.reshape((size, 1))\n",
    "    mean_val = np.mean(input_data, axis=1)\n",
    "    mean_val = mean_val.reshape((size, 1))\n",
    "    return (input_data-mean_val) / sigma"
   ]
  },
  {
   "cell_type": "code",
   "execution_count": 9,
   "metadata": {},
   "outputs": [
    {
     "data": {
      "text/plain": [
       "'Convolutional Neural Network'"
      ]
     },
     "execution_count": 9,
     "metadata": {},
     "output_type": "execute_result"
    }
   ],
   "source": [
    "\"\"\"Convolutional Neural Network\"\"\""
   ]
  },
  {
   "cell_type": "code",
   "execution_count": 11,
   "metadata": {},
   "outputs": [],
   "source": [
    "import tensorflow as tf"
   ]
  },
  {
   "cell_type": "code",
   "execution_count": 12,
   "metadata": {},
   "outputs": [],
   "source": [
    "n_classes = 10\n",
    "random_seed = 123\n",
    "np.random.seed(random_seed)"
   ]
  },
  {
   "cell_type": "code",
   "execution_count": 65,
   "metadata": {},
   "outputs": [],
   "source": [
    "dropout_rate= 0.6\n",
    "learning_rate = 0.002"
   ]
  },
  {
   "cell_type": "code",
   "execution_count": 66,
   "metadata": {},
   "outputs": [
    {
     "name": "stderr",
     "output_type": "stream",
     "text": [
      "W0826 18:26:01.711057  1128 nn_ops.py:4224] Large dropout rate: 0.6 (>0.5). In TensorFlow 2.x, dropout() uses dropout rate instead of keep_prob. Please ensure that this is intended.\n"
     ]
    }
   ],
   "source": [
    "g = tf.Graph()\n",
    "with g.as_default():\n",
    "    tf.set_random_seed(random_seed)\n",
    "    #placeholders\n",
    "    tf_x = tf.placeholder(dtype = tf.float32,\n",
    "                         shape = (None, 4900),\n",
    "                         name='tf_x')\n",
    "    tf_x_image = tf.reshape(tf_x,\n",
    "                            shape=[-1, 70, 70, 1],\n",
    "                            name='tf_x_image')\n",
    "    tf_y = tf.placeholder(dtype=tf.int32,\n",
    "                         shape=(None),\n",
    "                         name='tf_y')\n",
    "    tf_y_onehot = tf.one_hot(indices=tf_y, depth=n_classes,\n",
    "                            name='tf_y_onehot')\n",
    "    \n",
    "    is_train = tf.placeholder(dtype=tf.bool, shape=(),\n",
    "                                name='is_train')\n",
    "    \n",
    "    h1 = tf.layers.conv2d(tf_x_image,\n",
    "                         kernel_size=(5,5),\n",
    "                         filters=8,\n",
    "                         activation=tf.sigmoid,\n",
    "                         name='layer1')\n",
    "    h1_pool = tf.layers.max_pooling2d(h1, pool_size=(2,2),\n",
    "                                     strides=(2,2),\n",
    "                                     name='layer1_pool')\n",
    "    h2 = tf.layers.conv2d(h1_pool,\n",
    "                         kernel_size=(5,5),\n",
    "                         filters=16,\n",
    "                         activation=tf.sigmoid,\n",
    "                         name='layer2')\n",
    "    h2_pool = tf.layers.max_pooling2d(h2, pool_size=(2,2),\n",
    "                                     strides=(2,2),\n",
    "                                     name='layer2_pool')\n",
    "    \n",
    "    input_shape = h2_pool.get_shape().as_list()\n",
    "    n_input_units = np.prod(input_shape[1:])\n",
    "    h2_pool_flat = tf.reshape(h2_pool,\n",
    "                             shape=[-1,n_input_units],\n",
    "                             name='layer2_pool_flat')\n",
    "    h3 = tf.layers.dense(h2_pool_flat,\n",
    "                         1024,\n",
    "                         activation = tf.sigmoid,\n",
    "                        name='layer3')\n",
    "    h3_drop = tf.layers.dropout(h3,\n",
    "                        rate = dropout_rate,\n",
    "                        training=is_train,\n",
    "                               name='layer3_drop')\n",
    "    logits = tf.layers.dense(h3_drop, 10,\n",
    "                        activation=None,\n",
    "                        name='logits')\n",
    "    \n",
    "    predictions = {\n",
    "        'probabilities' : tf.nn.softmax(logits,\n",
    "                                       name='prob_softmax'),\n",
    "        'labels' : tf.cast(tf.argmax(logits, axis=1),\n",
    "                          tf.int32, name='predicted_labels')\n",
    "    }\n",
    "    \n",
    "    cost = tf.nn.sigmoid_cross_entropy_with_logits(\n",
    "        labels=tf_y_onehot, logits = logits, name='cost')\n",
    "    \n",
    "    optimizer = tf.train.AdamOptimizer(learning_rate)\n",
    "    train_op = optimizer.minimize(cost, name='train_op')\n",
    "    \n",
    "    init_op = tf.global_variables_initializer()\n",
    "    \n",
    "\n",
    " "
   ]
  },
  {
   "cell_type": "code",
   "execution_count": 54,
   "metadata": {},
   "outputs": [],
   "source": [
    "def create_batch_generator(X, y, batch_size=128, shuffle=False):\n",
    "    X_copy = np.array(X)\n",
    "    y_copy = np.array(y)\n",
    "    \n",
    "    if shuffle:\n",
    "        data = np.column_stack((X_copy, y_copy))\n",
    "        np.random.shuffle(data)\n",
    "        X_copy = data[:, :-1]\n",
    "        y_copy = data[:, :-1].astype(int)\n",
    "        \n",
    "    for i in range(0, X.shape[0], batch_size):\n",
    "        yield (X_copy[i : i+batch_size, :], y_copy[i : i+batch_size])"
   ]
  },
  {
   "cell_type": "code",
   "execution_count": 67,
   "metadata": {},
   "outputs": [],
   "source": [
    "def create_batch_generator(X, y, batch_size=64,\n",
    "                        shuffle=False, random_seed=None):\n",
    "        idx = np.arange(y.shape[0])\n",
    "        if shuffle:\n",
    "            idx_shuffle = np.random.permutation(idx)\n",
    "            X = X[idx_shuffle,:]\n",
    "            y = y[idx_shuffle]\n",
    "\n",
    "        for i in range(0, X.shape[0], batch_size):\n",
    "            yield (X[i:i + batch_size, :], y[i:i + batch_size])"
   ]
  },
  {
   "cell_type": "code",
   "execution_count": 68,
   "metadata": {},
   "outputs": [],
   "source": [
    "sess = tf.Session(graph=g)\n",
    "sess.run(init_op)"
   ]
  },
  {
   "cell_type": "code",
   "execution_count": 69,
   "metadata": {},
   "outputs": [
    {
     "name": "stdout",
     "output_type": "stream",
     "text": [
      "-- It: 1 0.46870604\t-- It: 2 0.37229398\t-- It: 3 0.35363436\t-- It: 4 0.34071907\n",
      "-- It: 5 0.333777\t-- It: 6 0.33068493\t-- It: 7 0.3289602\t-- It: 8 0.32834864\n",
      "-- It: 9 0.3271987\t-- It: 10 0.3256637\t-- It: 11 0.32198188\t-- It: 12 0.31586727\n",
      "-- It: 13 0.30903485\t-- It: 14 0.30148426\t-- It: 15 0.2938011\t-- It: 16 0.28886446\n",
      "-- It: 17 0.28514642\t-- It: 18 0.28149122\t-- It: 19 0.27826983\t-- It: 20 0.27448228\n",
      "-- It: 21 0.27184582\t-- It: 22 0.26791722\t-- It: 23 0.2641658\t-- It: 24 0.2622054\n",
      "-- It: 25 0.2581369\t-- It: 26 0.25378695\t-- It: 27 0.24964708\t-- It: 28 0.2454217\n",
      "-- It: 29 0.2416325\t-- It: 30 0.23794219\t-- It: 31 0.23484518\t-- It: 32 0.23061948\n",
      "-- It: 33 0.22793034\t-- It: 34 0.22387633\t-- It: 35 0.22133899\t-- It: 36 0.21702084\n",
      "-- It: 37 0.2157543\t-- It: 38 0.21287794\t-- It: 39 0.20990118\t-- It: 40 0.20754863\n",
      "-- It: 41 0.2065042\t-- It: 42 0.20309797\t-- It: 43 0.20009585\t-- It: 44 0.19851042\n",
      "-- It: 45 0.19524252\t-- It: 46 0.19143705\t-- It: 47 0.18523753\t-- It: 48 0.18138346\n",
      "-- It: 49 0.17665137\t-- It: 50 0.17244115\t-- It: 51 0.16823688\t-- It: 52 0.16601633\n",
      "-- It: 53 0.16223177\t-- It: 54 0.15789649\t-- It: 55 0.15542567\t-- It: 56 0.15235837\n",
      "-- It: 57 0.14983873\t-- It: 58 0.147443\t-- It: 59 0.14450537\t-- It: 60 0.14196658\n",
      "-- It: 61 0.1402759\t-- It: 62 0.13869427\t-- It: 63 0.13565093\t-- It: 64 0.13363777\n",
      "-- It: 65 0.1308797\t-- It: 66 0.12972791\t-- It: 67 0.12752877\t-- It: 68 0.124629505\n",
      "-- It: 69 0.121176705\t-- It: 70 0.11911108\t-- It: 71 0.11735262\t-- It: 72 0.11412741\n",
      "-- It: 73 0.11244397\t-- It: 74 0.11006339\t-- It: 75 0.10793385\t-- It: 76 0.10686698\n",
      "-- It: 77 0.1051549\t-- It: 78 0.103305265\t-- It: 79 0.100378804\t-- It: 80 0.09968563\n",
      "-- It: 81 0.09748675\t-- It: 82 0.096955635\t-- It: 83 0.09487698\t-- It: 84 0.093746\n",
      "-- It: 85 0.09236613\t-- It: 86 0.09064564\t-- It: 87 0.088482685\t-- It: 88 0.087557435\n",
      "-- It: 89 0.08747605\t-- It: 90 0.085071266\t-- It: 91 0.08349657\t-- It: 92 0.08274066\n",
      "-- It: 93 0.08152215\t-- It: 94 0.080493055\t-- It: 95 0.07951454\t-- It: 96 0.078229286\n",
      "-- It: 97 0.07692569\t-- It: 98 0.07685854\t-- It: 99 0.075593404\t-- It: 100 0.07418573\n",
      "-- It: 101 0.073604874\t-- It: 102 0.07172274\t-- It: 103 0.0713537\t-- It: 104 0.07003636\n",
      "-- It: 105 0.06962219\t-- It: 106 0.06839376\t-- It: 107 0.06750668\t-- It: 108 0.06644311\n",
      "-- It: 109 0.06544385\t-- It: 110 0.06445694\t-- It: 111 0.063954085\t-- It: 112 0.06351718\n",
      "-- It: 113 0.062174752\t-- It: 114 0.0616836\t-- It: 115 0.061195306\t-- It: 116 0.06000599\n",
      "-- It: 117 0.059799127\t-- It: 118 0.05922467\t-- It: 119 0.057740483\t-- It: 120 0.056958646\n",
      "-- It: 121 0.057159986\t-- It: 122 0.056689337\t-- It: 123 0.05556027\t-- It: 124 0.05412065\n",
      "-- It: 125 0.054524098\t-- It: 126 0.053277925\t-- It: 127 0.052746695\t-- It: 128 0.052933693\n",
      "-- It: 129 0.052499186\t-- It: 130 0.051566903\t-- It: 131 0.0504385\t-- It: 132 0.049655877\n",
      "-- It: 133 0.04836292\t-- It: 134 0.04892031\t-- It: 135 0.04822693\t-- It: 136 0.04806059\n",
      "-- It: 137 0.046983905\t-- It: 138 0.046812475\t-- It: 139 0.046377346\t-- It: 140 0.045332406\n",
      "-- It: 141 0.045391027\t-- It: 142 0.044773687\t-- It: 143 0.04461633\t-- It: 144 0.04442667\n",
      "-- It: 145 0.043199316\t-- It: 146 0.042841326\t-- It: 147 0.04295172\t-- It: 148 0.04167932\n",
      "-- It: 149 0.040748976\t-- It: 150 0.04154269\t-- It: 151 0.04106144\t-- It: 152 0.041126303\n",
      "-- It: 153 0.040520974\t-- It: 154 0.039299678\t-- It: 155 0.039136704\t-- It: 156 0.03922351\n",
      "-- It: 157 0.037893675\t-- It: 158 0.038600095\t-- It: 159 0.03720036\t-- It: 160 0.03756083\n",
      "-- It: 161 0.036911372\t-- It: 162 0.036687594\t-- It: 163 0.03618627\t-- It: 164 0.03660357\n",
      "-- It: 165 0.035221376\t-- It: 166 0.03538018\t-- It: 167 0.035376374\t-- It: 168 0.03481616\n",
      "-- It: 169 0.034209803\t-- It: 170 0.034106568\t-- It: 171 0.03376672\t-- It: 172 0.03315041\n",
      "-- It: 173 0.03287872\t-- It: 174 0.033121645\t-- It: 175 0.03277602\t-- It: 176 0.032233894\n",
      "-- It: 177 0.03217778\t-- It: 178 0.031507142\t-- It: 179 0.031192318\t-- It: 180 0.032000788\n",
      "-- It: 181 0.03067034\t-- It: 182 0.030857138\t-- It: 183 0.030407015\t-- It: 184 0.029884377\n",
      "-- It: 185 0.029837849\t-- It: 186 0.029946256\t-- It: 187 0.029326905\t-- It: 188 0.02923705\n",
      "-- It: 189 0.028563421\t-- It: 190 0.027935302\t-- It: 191 0.028273502\t-- It: 192 0.0285514\n",
      "-- It: 193 0.027797561\t-- It: 194 0.02769944\t-- It: 195 0.027199743\t-- It: 196 0.027182456\n",
      "-- It: 197 0.027222937\t-- It: 198 0.026766498\t-- It: 199 0.02631331\t-- It: 200 0.026250377\n"
     ]
    }
   ],
   "source": [
    "for epoch in range(200):\n",
    "    training_costs = []\n",
    "    batch_generator = create_batch_generator(\n",
    "                        X_train_std, y_train_num,\n",
    "                        batch_size=500, shuffle=True)\n",
    "    for batch_X, batch_y in batch_generator:\n",
    "        feed={'tf_x:0': batch_X, 'tf_y:0': batch_y, 'is_train:0': True}\n",
    "        batch_cost, _ = sess.run(['cost:0', 'train_op'], feed_dict=feed)\n",
    "        training_costs.append(batch_cost)\n",
    "    if (epoch+1) % 4 == 0:\n",
    "        print('-- It:', epoch+1, np.mean(training_costs))\n",
    "    else:\n",
    "        print('-- It:', epoch+1, np.mean(training_costs), end='\\t')"
   ]
  },
  {
   "cell_type": "code",
   "execution_count": 70,
   "metadata": {},
   "outputs": [
    {
     "name": "stdout",
     "output_type": "stream",
     "text": [
      "Dokładność dla podzbioru trenującego: 97.63%\n",
      "Dokładność dla podzbioru testującego: 82.05%\n"
     ]
    }
   ],
   "source": [
    "\"\"\"TRAINING SET\"\"\"\n",
    "feed={'tf_x:0':X_train_std, 'is_train:0':False}\n",
    "y_pred = sess.run(predictions['labels'], feed_dict=feed)\n",
    "print('Dokładność dla podzbioru trenującego: %.2f%%' % (\n",
    "            100*np.sum(y_pred == y_train_num)/y_train_num.shape[0]))\n",
    "\"\"\"TEST SET\"\"\"\n",
    "feed={'tf_x:0':X_test_std, 'is_train:0':False}\n",
    "y_pred = sess.run(predictions['labels'], feed_dict=feed)\n",
    "print('Dokładność dla podzbioru testującego: %.2f%%' % (\n",
    "            100*np.sum(y_pred == y_test_num)/y_test_num.shape[0]))"
   ]
  },
  {
   "cell_type": "code",
   "execution_count": 78,
   "metadata": {},
   "outputs": [],
   "source": [
    "with g.as_default():\n",
    "    saver = tf.train.Saver()\n",
    "    save_path = saver.save(sess, \"model_200.ckpt\")\n",
    "    "
   ]
  }
 ],
 "metadata": {
  "kernelspec": {
   "display_name": "Python 3",
   "language": "python",
   "name": "python3"
  },
  "language_info": {
   "codemirror_mode": {
    "name": "ipython",
    "version": 3
   },
   "file_extension": ".py",
   "mimetype": "text/x-python",
   "name": "python",
   "nbconvert_exporter": "python",
   "pygments_lexer": "ipython3",
   "version": "3.6.8rc1"
  }
 },
 "nbformat": 4,
 "nbformat_minor": 2
}
