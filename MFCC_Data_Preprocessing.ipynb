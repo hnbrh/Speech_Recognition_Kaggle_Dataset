{
 "cells": [
  {
   "cell_type": "code",
   "execution_count": 6,
   "metadata": {},
   "outputs": [],
   "source": [
    "import numpy as np\n",
    "from scipy.signal import spectrogram\n",
    "import matplotlib.pyplot as plt\n",
    "import functions\n",
    "from tqdm import tqdm\n",
    "from python_speech_features import mfcc"
   ]
  },
  {
   "cell_type": "code",
   "execution_count": 2,
   "metadata": {},
   "outputs": [],
   "source": [
    "label_names = ['no', 'yes', 'on', 'off', 'down', 'up', 'left', 'right', 'go', 'wow']\n",
    "\n",
    "data = np.load('voice_samples.npz')\n",
    "\n",
    "X_train_time, y_train_words, X_test_time, y_test_words = [data[f] for f in data.files]\n",
    "\n",
    "y_train_num = functions.y_to_num(y_train_words, label_names)\n",
    "y_test_num = functions.y_to_num(y_test_words, label_names)"
   ]
  },
  {
   "cell_type": "code",
   "execution_count": 3,
   "metadata": {},
   "outputs": [],
   "source": [
    "from scipy.io import wavfile\n",
    "wavfile.write('output_signal.wav', 16000, X_test_time[0, :])"
   ]
  },
  {
   "cell_type": "code",
   "execution_count": 4,
   "metadata": {},
   "outputs": [
    {
     "name": "stdout",
     "output_type": "stream",
     "text": [
      "(15000, 16000)\n",
      "(2000, 16000)\n"
     ]
    }
   ],
   "source": [
    "print(X_train_time.shape)\n",
    "print(X_test_time.shape)"
   ]
  },
  {
   "cell_type": "code",
   "execution_count": 5,
   "metadata": {},
   "outputs": [
    {
     "name": "stdout",
     "output_type": "stream",
     "text": [
      "(16000,)\n"
     ]
    }
   ],
   "source": [
    "ex = X_train_time[5002, :]\n",
    "print(ex.shape)"
   ]
  },
  {
   "cell_type": "code",
   "execution_count": 10,
   "metadata": {},
   "outputs": [
    {
     "name": "stdout",
     "output_type": "stream",
     "text": [
      "(13, 99)\n"
     ]
    }
   ],
   "source": [
    "ex_mfcc = mfcc(ex, 16000, numcep = 13, nfilt=26, nfft = 400).T\n",
    "print(ex_mfcc.shape)"
   ]
  },
  {
   "cell_type": "code",
   "execution_count": 11,
   "metadata": {},
   "outputs": [
    {
     "data": {
      "image/png": "[encoded data removed]",
      "text/plain": [
       "<Figure size 432x288 with 1 Axes>"
      ]
     },
     "metadata": {
      "needs_background": "light"
     },
     "output_type": "display_data"
    }
   ],
   "source": [
    "plt.imshow(ex_mfcc)\n",
    "plt.show()"
   ]
  },
  {
   "cell_type": "code",
   "execution_count": 17,
   "metadata": {},
   "outputs": [],
   "source": [
    "X_train_mfcc = []\n",
    "X_test_mfcc = []"
   ]
  },
  {
   "cell_type": "code",
   "execution_count": 24,
   "metadata": {},
   "outputs": [],
   "source": [
    "for it in range(X_train_time.shape[0]):\n",
    "    tmp = X_train_time[it, :]\n",
    "    tmp_mfcc = mfcc(tmp, 16000, numcep = 13, nfilt=26, nfft = 400).T.tolist()\n",
    "    X_train_mfcc.append(tmp_mfcc)\n",
    "    \n",
    "for it in range(X_test_time.shape[0]):\n",
    "    tmp = X_test_time[it, :]\n",
    "    tmp_mfcc = mfcc(tmp, 16000, numcep = 13, nfilt=26, nfft = 400).T.tolist()\n",
    "    X_test_mfcc.append(tmp_mfcc)"
   ]
  },
  {
   "cell_type": "code",
   "execution_count": 48,
   "metadata": {},
   "outputs": [],
   "source": [
    "X_train_mfcc = np.array(X_train_mfcc).astype(np.float32)\n",
    "X_test_mfcc = np.array(X_test_mfcc).astype(np.float32)\n",
    "y_train_num , y_test_num = y_train_num.astype(np.uint8), y_test_num.astype(np.uint8)"
   ]
  },
  {
   "cell_type": "code",
   "execution_count": 42,
   "metadata": {},
   "outputs": [
    {
     "name": "stdout",
     "output_type": "stream",
     "text": [
      "(2000, 13, 99)\n"
     ]
    }
   ],
   "source": [
    "print(X_test_mfcc.shape)"
   ]
  },
  {
   "cell_type": "code",
   "execution_count": 43,
   "metadata": {},
   "outputs": [
    {
     "name": "stdout",
     "output_type": "stream",
     "text": [
      "(17530, 13, 99)\n",
      "(2000, 13, 99)\n"
     ]
    }
   ],
   "source": [
    "print(X_train_mfcc.shape)\n",
    "print(X_test_mfcc.shape)"
   ]
  },
  {
   "cell_type": "code",
   "execution_count": 44,
   "metadata": {},
   "outputs": [
    {
     "name": "stdout",
     "output_type": "stream",
     "text": [
      "yes\n"
     ]
    },
    {
     "data": {
      "image/png": "[encoded data removed]",
      "text/plain": [
       "<Figure size 432x288 with 1 Axes>"
      ]
     },
     "metadata": {
      "needs_background": "light"
     },
     "output_type": "display_data"
    },
    {
     "name": "stdout",
     "output_type": "stream",
     "text": [
      "-6.686515\n",
      "-63.84375\n",
      "float32\n"
     ]
    }
   ],
   "source": [
    "idx = 210\n",
    "print(y_test_words[idx])\n",
    "plt.imshow(X_test_mfcc[idx,:,:])\n",
    "plt.show()\n",
    "print(np.mean(X_test_mfcc[idx,:,:]))\n",
    "print(np.min(X_test_mfcc[idx,:,:]))\n",
    "print(X_test_mfcc.dtype)"
   ]
  },
  {
   "cell_type": "code",
   "execution_count": 45,
   "metadata": {},
   "outputs": [
    {
     "name": "stdout",
     "output_type": "stream",
     "text": [
      "14.910543\n"
     ]
    }
   ],
   "source": [
    "sigma = np.std(X_train_mfcc)\n",
    "print(sigma)"
   ]
  },
  {
   "cell_type": "code",
   "execution_count": 46,
   "metadata": {},
   "outputs": [],
   "source": [
    "X_train_mfcc , X_test_mfcc = X_train_mfcc/sigma , X_test_mfcc/sigma"
   ]
  },
  {
   "cell_type": "code",
   "execution_count": 47,
   "metadata": {},
   "outputs": [
    {
     "name": "stdout",
     "output_type": "stream",
     "text": [
      "yes\n"
     ]
    },
    {
     "data": {
      "image/png": "[encoded data removed]",
      "text/plain": [
       "<Figure size 432x288 with 1 Axes>"
      ]
     },
     "metadata": {
      "needs_background": "light"
     },
     "output_type": "display_data"
    },
    {
     "name": "stdout",
     "output_type": "stream",
     "text": [
      "-0.44844207\n",
      "2.8482363\n",
      "float32\n"
     ]
    }
   ],
   "source": [
    "idx = 210\n",
    "print(y_test_words[idx])\n",
    "plt.imshow(X_test_mfcc[idx,:,:])\n",
    "plt.show()\n",
    "print(np.mean(X_test_mfcc[idx,:,:]))\n",
    "print(np.max(X_test_mfcc[idx,:,:]))\n",
    "print(X_test_mfcc.dtype)"
   ]
  },
  {
   "cell_type": "code",
   "execution_count": 50,
   "metadata": {},
   "outputs": [
    {
     "name": "stdout",
     "output_type": "stream",
     "text": [
      "yes\n",
      "-0.44844207\n",
      "2.8482363\n",
      "float32\n"
     ]
    }
   ],
   "source": [
    "idx = 210\n",
    "print(y_test_words[idx])\n",
    "print(np.mean(X_test_mfcc[idx,:,:]))\n",
    "print(np.max(X_test_mfcc[idx,:,:]))\n",
    "print(X_test_mfcc.dtype)"
   ]
  },
  {
   "cell_type": "code",
   "execution_count": 51,
   "metadata": {},
   "outputs": [],
   "source": [
    "\"\"\"execute this code!!!\"\"\"\n",
    "np.savez_compressed('voice_mfcc.npz',\n",
    "                    X_train = X_train_mfcc,\n",
    "                    y_train = y_train_num,\n",
    "                    X_test = X_test_mfcc,\n",
    "                    y_test = y_test_num)"
   ]
  }
 ],
 "metadata": {
  "kernelspec": {
   "display_name": "Python 3",
   "language": "python",
   "name": "python3"
  },
  "language_info": {
   "codemirror_mode": {
    "name": "ipython",
    "version": 3
   },
   "file_extension": ".py",
   "mimetype": "text/x-python",
   "name": "python",
   "nbconvert_exporter": "python",
   "pygments_lexer": "ipython3",
   "version": "3.6.8rc1"
  }
 },
 "nbformat": 4,
 "nbformat_minor": 2
}
